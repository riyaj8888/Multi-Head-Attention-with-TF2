{
  "nbformat": 4,
  "nbformat_minor": 0,
  "metadata": {
    "colab": {
      "name": "Attention Example.ipynb",
      "provenance": [],
      "collapsed_sections": []
    },
    "kernelspec": {
      "name": "python3",
      "display_name": "Python 3"
    },
    "language_info": {
      "name": "python"
    },
    "accelerator": "GPU"
  },
  "cells": [
    {
      "cell_type": "code",
      "metadata": {
        "id": "DXO-4mFBqvMo"
      },
      "source": [
        "import tensorflow as tf\n",
        "from tensorflow.keras.layers import *\n",
        "import numpy as np\n"
      ],
      "execution_count": 1,
      "outputs": []
    },
    {
      "cell_type": "code",
      "metadata": {
        "colab": {
          "base_uri": "https://localhost:8080/"
        },
        "id": "A-3OQsHurKFT",
        "outputId": "4c9c2380-23f2-45fc-e247-2704ad5660d2"
      },
      "source": [
        "# here row = 2 indicates two words each has (embedding dim) coloum=4\n",
        "x =  tf.ones((16,16,512))\n",
        "\n",
        "# project each word into another space using linear projection with wq,qk,qv matrices of dim=3/4\n",
        "key_dim = query_dim = 64\n",
        "value_dim = 64\n",
        "\n",
        "wq =  Dense(query_dim)\n",
        "wk = Dense(key_dim)\n",
        "wv = Dense(value_dim)\n",
        "\n",
        "q = wq(x)\n",
        "k = wk(x)\n",
        "v = wv(x)\n",
        "\n",
        "# simililarity of each word/frame with respect to all other words/frames\n",
        "pre_score = tf.matmul(q,k,transpose_b=True)\n",
        "\n",
        "# normalized each dot product score into 0-1 range using softmax along each words score calculated against all other words.(N,N) size \n",
        "score = tf.keras.activations.softmax(pre_score,axis=1)\n",
        "\n",
        "score_normalized = score/tf.math.sqrt(tf.dtypes.cast(key_size, tf.float32))\n",
        "\n",
        "#context vector for each word/frame or signal at each time instant\n",
        "#calculate context vector at each time instant 't' using weighted sum of values projection ,weighted by score matrix.\n",
        "z = tf.matmul(score,v)\n",
        "# q  = tf.matmul(x,wq(x))\n",
        "# print(pre_score,score)\n",
        "z.shape"
      ],
      "execution_count": 40,
      "outputs": [
        {
          "output_type": "execute_result",
          "data": {
            "text/plain": [
              "TensorShape([16, 16, 64])"
            ]
          },
          "metadata": {
            "tags": []
          },
          "execution_count": 40
        }
      ]
    },
    {
      "cell_type": "code",
      "metadata": {
        "id": "c1AXeIdWwf8K"
      },
      "source": [
        "class Attention(tf.keras.layers.Layer):\n",
        "  \n",
        "  def __init__(self,query_dim = None,key_dim = None,value_dim = None,output_dim = None,num_of_head = None):\n",
        "    \n",
        "    super(Attention,self).__init__()\n",
        "\n",
        "    self.query_dim = query_dim//num_of_head\n",
        "    self.key_dim = key_dim//num_of_head\n",
        "    self.value_dim = value_dim//num_of_head\n",
        "    self.output_dim  = output_dim\n",
        "    self.num_of_head  = num_of_head\n",
        "\n",
        "    self.wq = [Dense(self.query_dim) for h in range(self.num_of_head)]\n",
        "    self.wk = [Dense(self.key_dim) for h in range(self.num_of_head)]\n",
        "    self.wv = [Dense(self.value_dim) for h in range(self.num_of_head)]\n",
        "    self.wo = Dense(self.output_dim)\n",
        "\n",
        "\n",
        "\n",
        "  def call(self,x):\n",
        "\n",
        "    heads_context = []\n",
        "\n",
        "    for h in range(self.num_of_head):\n",
        "\n",
        "      q = self.wq[h](x)\n",
        "      k = self.wk[h](x)\n",
        "      v = self.wv[h](x)\n",
        "\n",
        "      pre_score = tf.matmul(q,k,transpose_b=True)\n",
        "      score = tf.keras.activations.softmax(pre_score,axis=1)/tf.math.sqrt(tf.dtypes.cast(self.key_dim, tf.float32))\n",
        "\n",
        "      Z_context_vector = tf.matmul(score,v)\n",
        "\n",
        "      heads_context.append(Z_context_vector)\n",
        "    \n",
        "    heads = tf.concat(heads_context, axis=2)\n",
        "    heads = self.wo(heads)\n",
        "\n",
        "    return heads\n",
        "\n",
        "\n",
        "\n",
        "\n",
        "\n"
      ],
      "execution_count": 52,
      "outputs": []
    },
    {
      "cell_type": "code",
      "metadata": {
        "colab": {
          "base_uri": "https://localhost:8080/"
        },
        "id": "6AeIhY3-ygDe",
        "outputId": "06fdcb40-6271-4dd0-d2d2-d7e75037d60b"
      },
      "source": [
        "#input :-> (batch size,time_steps,embeddings_dims)\n",
        "#output:-> (batch_size,time_steps,output_dims)\n",
        "\n",
        "x =  tf.ones((12,16,512))\n",
        "\n",
        "f = Attention(query_dim = 64,key_dim = 64,value_dim = 16,output_dim = 128,num_of_head=8)\n",
        "\n",
        "z = f(x)\n",
        "\n",
        "print(z.shape)"
      ],
      "execution_count": 58,
      "outputs": [
        {
          "output_type": "execute_result",
          "data": {
            "text/plain": [
              "TensorShape([1, 16, 0])"
            ]
          },
          "metadata": {
            "tags": []
          },
          "execution_count": 58
        }
      ]
    }
  ]
}